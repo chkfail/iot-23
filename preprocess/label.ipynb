{
 "cells": [
  {
   "cell_type": "code",
   "execution_count": 19,
   "metadata": {},
   "outputs": [],
   "source": [
    "import pandas as pd\n",
    "import numpy as np\n",
    "from scapy.all import *\n",
    "\n",
    "def ZeekLogs_to_csv(file_path):\n",
    "    try:\n",
    "        out_data = pd.read_excel(file_path + '.xlsx')\n",
    "        # out_data = pd.read_csv(file_path + '.csv')\n",
    "        return out_data\n",
    "    except:\n",
    "        data_file = open(file_path)\n",
    "        line = data_file.readline()\n",
    "        attribs = {}\n",
    "        while line.strip().startswith('#'):\n",
    "            # print(line)\n",
    "            key, *val = line.split()\n",
    "            attribs[key[1:]] = val\n",
    "            line = data_file.readline()\n",
    "        # print(attribs)\n",
    "        df = {}\n",
    "        while line.strip().startswith('#close') is False:\n",
    "            for k, v in zip(attribs['fields'], line.split()):\n",
    "                # print(k, v)\n",
    "                if k not in df.keys():\n",
    "                    df[k] = []\n",
    "                df[k].append(v)\n",
    "            line = data_file.readline()\n",
    "\n",
    "        data_file.close()\n",
    "        out_data = pd.DataFrame(df)\n",
    "        out_data.to_csv(file_path + '.csv', index=False)\n",
    "        return out_data\n",
    "    \n",
    "def preprocess_data(file):\n",
    "    data = ZeekLogs_to_csv(file)\n",
    "    data['detailed-label'] = data['detailed-label'].replace(to_replace= '-',value= 'Benign')\n",
    "    data = data.replace(to_replace='-', value=pd.NA)\n",
    "    data = data.fillna(value=0)\n",
    "    data['ts'] = data['ts'].astype(np.float64)\n",
    "    return data\n",
    "\n",
    "def csv_to_df(csv_file):\n",
    "    print(\"[*] Loading:{0}\".format(csv_file), end = \"\\r\")\n",
    "    data = preprocess_data(csv_file)\n",
    "    df = data[['ts','detailed-label']]\n",
    "    print(\"[+] Load Completed:{0}\".format(csv_file))\n",
    "    return df\n",
    "\n",
    "def pcap_to_df(pcap_file, byline = True):\n",
    "    print(\"[*] Loading:{0}\".format(pcap_file), end = \"\\r\")    \n",
    "    if byline == True:\n",
    "        packets = PcapReader(pcap_file)\n",
    "        length = \"Unknown\"\n",
    "    else:\n",
    "        packets = rdpcap(pcap_file)\n",
    "        length = len(packets)\n",
    "    print(\"[+] Load Completed:{0}\".format(pcap_file))\n",
    "    df = pd.DataFrame({\"ts\": []})\n",
    "    i = 0\n",
    "    for data in packets:\n",
    "        print(\"[*] Prasing Progress:{0}/{1}\".format(i,length), end = \"\\r\")\n",
    "        df.loc[i] = data.time\n",
    "        i += 1\n",
    "\n",
    "    print(\"[+] Prased Items:{0}              \".format(i))\n",
    "    print(\"[+] Prase Completed:{0}\".format(pcap_file))\n",
    "    return df.astype(np.float64)\n",
    "\n",
    "def find_pcap(folder):\n",
    "    for file in os.listdir(folder):\n",
    "        if os.path.splitext(file)[1] == '.pcap':\n",
    "            if str.find(file, '2018') != -1 or str.find(file, '2019') != -1:\n",
    "                return os.path.join(folder, file)\n",
    "    "
   ]
  },
  {
   "cell_type": "code",
   "execution_count": 77,
   "metadata": {},
   "outputs": [
    {
     "name": "stdout",
     "output_type": "stream",
     "text": [
      "[+] Load Completed:/Volumes/Unicorn/IoTScenarios/CTU-IoT-Malware-Capture-42-1/bro/conn.log.labeled\n"
     ]
    }
   ],
   "source": [
    "location = '/Volumes/Unicorn/IoTScenarios/'\n",
    "folder_list = ['CTU-IoT-Malware-Capture-42-1/']\n",
    "folder = location + folder_list[0]\n",
    "zeek_df = csv_to_df(folder + 'bro/conn.log.labeled')"
   ]
  },
  {
   "cell_type": "code",
   "execution_count": 78,
   "metadata": {},
   "outputs": [
    {
     "data": {
      "text/html": [
       "<div>\n",
       "<style scoped>\n",
       "    .dataframe tbody tr th:only-of-type {\n",
       "        vertical-align: middle;\n",
       "    }\n",
       "\n",
       "    .dataframe tbody tr th {\n",
       "        vertical-align: top;\n",
       "    }\n",
       "\n",
       "    .dataframe thead th {\n",
       "        text-align: right;\n",
       "    }\n",
       "</style>\n",
       "<table border=\"1\" class=\"dataframe\">\n",
       "  <thead>\n",
       "    <tr style=\"text-align: right;\">\n",
       "      <th></th>\n",
       "      <th>ts</th>\n",
       "      <th>detailed-label</th>\n",
       "    </tr>\n",
       "  </thead>\n",
       "  <tbody>\n",
       "    <tr>\n",
       "      <th>0</th>\n",
       "      <td>1.547127e+09</td>\n",
       "      <td>C&amp;C-FileDownload</td>\n",
       "    </tr>\n",
       "    <tr>\n",
       "      <th>1</th>\n",
       "      <td>1.547127e+09</td>\n",
       "      <td>Benign</td>\n",
       "    </tr>\n",
       "    <tr>\n",
       "      <th>2</th>\n",
       "      <td>1.547127e+09</td>\n",
       "      <td>Benign</td>\n",
       "    </tr>\n",
       "    <tr>\n",
       "      <th>3</th>\n",
       "      <td>1.547127e+09</td>\n",
       "      <td>Benign</td>\n",
       "    </tr>\n",
       "    <tr>\n",
       "      <th>4</th>\n",
       "      <td>1.547127e+09</td>\n",
       "      <td>C&amp;C-FileDownload</td>\n",
       "    </tr>\n",
       "    <tr>\n",
       "      <th>...</th>\n",
       "      <td>...</td>\n",
       "      <td>...</td>\n",
       "    </tr>\n",
       "    <tr>\n",
       "      <th>4420</th>\n",
       "      <td>1.547156e+09</td>\n",
       "      <td>Benign</td>\n",
       "    </tr>\n",
       "    <tr>\n",
       "      <th>4421</th>\n",
       "      <td>1.547156e+09</td>\n",
       "      <td>Benign</td>\n",
       "    </tr>\n",
       "    <tr>\n",
       "      <th>4422</th>\n",
       "      <td>1.547157e+09</td>\n",
       "      <td>Benign</td>\n",
       "    </tr>\n",
       "    <tr>\n",
       "      <th>4423</th>\n",
       "      <td>1.547127e+09</td>\n",
       "      <td>Benign</td>\n",
       "    </tr>\n",
       "    <tr>\n",
       "      <th>4424</th>\n",
       "      <td>1.547157e+09</td>\n",
       "      <td>Benign</td>\n",
       "    </tr>\n",
       "  </tbody>\n",
       "</table>\n",
       "<p>4425 rows × 2 columns</p>\n",
       "</div>"
      ],
      "text/plain": [
       "                ts    detailed-label\n",
       "0     1.547127e+09  C&C-FileDownload\n",
       "1     1.547127e+09            Benign\n",
       "2     1.547127e+09            Benign\n",
       "3     1.547127e+09            Benign\n",
       "4     1.547127e+09  C&C-FileDownload\n",
       "...            ...               ...\n",
       "4420  1.547156e+09            Benign\n",
       "4421  1.547156e+09            Benign\n",
       "4422  1.547157e+09            Benign\n",
       "4423  1.547127e+09            Benign\n",
       "4424  1.547157e+09            Benign\n",
       "\n",
       "[4425 rows x 2 columns]"
      ]
     },
     "execution_count": 78,
     "metadata": {},
     "output_type": "execute_result"
    }
   ],
   "source": [
    "zeek_df"
   ]
  },
  {
   "cell_type": "code",
   "execution_count": 71,
   "metadata": {},
   "outputs": [
    {
     "name": "stdout",
     "output_type": "stream",
     "text": [
      "[+] Load Completed:/Volumes/Unicorn/IoTScenarios/CTU-IoT-Malware-Capture-42-1/2019-01-10-14-34-38-192.168.1.197.pcap\n",
      "[+] Prased Items:24485              \n",
      "[+] Prase Completed:/Volumes/Unicorn/IoTScenarios/CTU-IoT-Malware-Capture-42-1/2019-01-10-14-34-38-192.168.1.197.pcap\n"
     ]
    },
    {
     "data": {
      "text/html": [
       "<div>\n",
       "<style scoped>\n",
       "    .dataframe tbody tr th:only-of-type {\n",
       "        vertical-align: middle;\n",
       "    }\n",
       "\n",
       "    .dataframe tbody tr th {\n",
       "        vertical-align: top;\n",
       "    }\n",
       "\n",
       "    .dataframe thead th {\n",
       "        text-align: right;\n",
       "    }\n",
       "</style>\n",
       "<table border=\"1\" class=\"dataframe\">\n",
       "  <thead>\n",
       "    <tr style=\"text-align: right;\">\n",
       "      <th></th>\n",
       "      <th>ts</th>\n",
       "    </tr>\n",
       "  </thead>\n",
       "  <tbody>\n",
       "    <tr>\n",
       "      <th>0</th>\n",
       "      <td>1.547127e+09</td>\n",
       "    </tr>\n",
       "    <tr>\n",
       "      <th>1</th>\n",
       "      <td>1.547127e+09</td>\n",
       "    </tr>\n",
       "    <tr>\n",
       "      <th>2</th>\n",
       "      <td>1.547127e+09</td>\n",
       "    </tr>\n",
       "    <tr>\n",
       "      <th>3</th>\n",
       "      <td>1.547127e+09</td>\n",
       "    </tr>\n",
       "    <tr>\n",
       "      <th>4</th>\n",
       "      <td>1.547127e+09</td>\n",
       "    </tr>\n",
       "    <tr>\n",
       "      <th>...</th>\n",
       "      <td>...</td>\n",
       "    </tr>\n",
       "    <tr>\n",
       "      <th>24480</th>\n",
       "      <td>1.547157e+09</td>\n",
       "    </tr>\n",
       "    <tr>\n",
       "      <th>24481</th>\n",
       "      <td>1.547157e+09</td>\n",
       "    </tr>\n",
       "    <tr>\n",
       "      <th>24482</th>\n",
       "      <td>1.547157e+09</td>\n",
       "    </tr>\n",
       "    <tr>\n",
       "      <th>24483</th>\n",
       "      <td>1.547157e+09</td>\n",
       "    </tr>\n",
       "    <tr>\n",
       "      <th>24484</th>\n",
       "      <td>1.547157e+09</td>\n",
       "    </tr>\n",
       "  </tbody>\n",
       "</table>\n",
       "<p>24485 rows × 1 columns</p>\n",
       "</div>"
      ],
      "text/plain": [
       "                 ts\n",
       "0      1.547127e+09\n",
       "1      1.547127e+09\n",
       "2      1.547127e+09\n",
       "3      1.547127e+09\n",
       "4      1.547127e+09\n",
       "...             ...\n",
       "24480  1.547157e+09\n",
       "24481  1.547157e+09\n",
       "24482  1.547157e+09\n",
       "24483  1.547157e+09\n",
       "24484  1.547157e+09\n",
       "\n",
       "[24485 rows x 1 columns]"
      ]
     },
     "execution_count": 71,
     "metadata": {},
     "output_type": "execute_result"
    }
   ],
   "source": [
    "pcap_df = pcap_to_df(find_pcap(folder), byline=True)\n",
    "pcap_df"
   ]
  },
  {
   "cell_type": "code",
   "execution_count": 72,
   "metadata": {},
   "outputs": [
    {
     "data": {
      "text/plain": [
       "1547127288.01882"
      ]
     },
     "execution_count": 72,
     "metadata": {},
     "output_type": "execute_result"
    }
   ],
   "source": [
    "pcap_df['ts'] = (pcap_df['ts'] * 100000)//1/100000\n",
    "pcap_df['ts'][43]"
   ]
  },
  {
   "cell_type": "code",
   "execution_count": 63,
   "metadata": {},
   "outputs": [
    {
     "name": "stdout",
     "output_type": "stream",
     "text": [
      "1547127288.018806\n",
      "1547127288.01881\n"
     ]
    },
    {
     "ename": "AssertionError",
     "evalue": "",
     "output_type": "error",
     "traceback": [
      "\u001b[0;31m---------------------------------------------------------------------------\u001b[0m",
      "\u001b[0;31mAssertionError\u001b[0m                            Traceback (most recent call last)",
      "\u001b[1;32m/Users/cyberfishtail/Repositories/lot-23-dataprocess/proprocess/label.ipynb Cell 6'\u001b[0m in \u001b[0;36m<cell line: 14>\u001b[0;34m()\u001b[0m\n\u001b[1;32m     <a href='vscode-notebook-cell:/Users/cyberfishtail/Repositories/lot-23-dataprocess/proprocess/label.ipynb#ch0000010?line=10'>11</a>\u001b[0m b \u001b[39m=\u001b[39m \u001b[39mround\u001b[39m(b, \u001b[39m5\u001b[39m)\n\u001b[1;32m     <a href='vscode-notebook-cell:/Users/cyberfishtail/Repositories/lot-23-dataprocess/proprocess/label.ipynb#ch0000010?line=11'>12</a>\u001b[0m \u001b[39mprint\u001b[39m(b)\n\u001b[0;32m---> <a href='vscode-notebook-cell:/Users/cyberfishtail/Repositories/lot-23-dataprocess/proprocess/label.ipynb#ch0000010?line=13'>14</a>\u001b[0m \u001b[39massert\u001b[39;00m(a \u001b[39m==\u001b[39m b)\n",
      "\u001b[0;31mAssertionError\u001b[0m: "
     ]
    }
   ],
   "source": [
    "# from math import floor\n",
    "# floor()\n",
    "\n",
    "df = pd.DataFrame([[1547127288.01882, 1], [1547127288.018828, 4]], columns=['uid', 'score'])\n",
    "df['uid'] = round(df['uid'])\n",
    "\n",
    "\n",
    "a = \n",
    "\n",
    "a = 1547127288.018828\n",
    "a = 1547127288.018811\n",
    "b = a - 0.000005\n",
    "print(b)\n",
    "b = round(b, 5)\n",
    "print(b)\n",
    "\n",
    "assert(a == b)"
   ]
  },
  {
   "cell_type": "code",
   "execution_count": 74,
   "metadata": {},
   "outputs": [
    {
     "data": {
      "text/html": [
       "<div>\n",
       "<style scoped>\n",
       "    .dataframe tbody tr th:only-of-type {\n",
       "        vertical-align: middle;\n",
       "    }\n",
       "\n",
       "    .dataframe tbody tr th {\n",
       "        vertical-align: top;\n",
       "    }\n",
       "\n",
       "    .dataframe thead th {\n",
       "        text-align: right;\n",
       "    }\n",
       "</style>\n",
       "<table border=\"1\" class=\"dataframe\">\n",
       "  <thead>\n",
       "    <tr style=\"text-align: right;\">\n",
       "      <th></th>\n",
       "      <th>detailed-label</th>\n",
       "    </tr>\n",
       "  </thead>\n",
       "  <tbody>\n",
       "    <tr>\n",
       "      <th>0</th>\n",
       "      <td>NaN</td>\n",
       "    </tr>\n",
       "    <tr>\n",
       "      <th>1</th>\n",
       "      <td>NaN</td>\n",
       "    </tr>\n",
       "    <tr>\n",
       "      <th>2</th>\n",
       "      <td>Benign</td>\n",
       "    </tr>\n",
       "    <tr>\n",
       "      <th>3</th>\n",
       "      <td>NaN</td>\n",
       "    </tr>\n",
       "    <tr>\n",
       "      <th>4</th>\n",
       "      <td>NaN</td>\n",
       "    </tr>\n",
       "    <tr>\n",
       "      <th>...</th>\n",
       "      <td>...</td>\n",
       "    </tr>\n",
       "    <tr>\n",
       "      <th>24484</th>\n",
       "      <td>NaN</td>\n",
       "    </tr>\n",
       "    <tr>\n",
       "      <th>24485</th>\n",
       "      <td>NaN</td>\n",
       "    </tr>\n",
       "    <tr>\n",
       "      <th>24486</th>\n",
       "      <td>NaN</td>\n",
       "    </tr>\n",
       "    <tr>\n",
       "      <th>24487</th>\n",
       "      <td>NaN</td>\n",
       "    </tr>\n",
       "    <tr>\n",
       "      <th>24488</th>\n",
       "      <td>NaN</td>\n",
       "    </tr>\n",
       "  </tbody>\n",
       "</table>\n",
       "<p>24489 rows × 1 columns</p>\n",
       "</div>"
      ],
      "text/plain": [
       "      detailed-label\n",
       "0                NaN\n",
       "1                NaN\n",
       "2             Benign\n",
       "3                NaN\n",
       "4                NaN\n",
       "...              ...\n",
       "24484            NaN\n",
       "24485            NaN\n",
       "24486            NaN\n",
       "24487            NaN\n",
       "24488            NaN\n",
       "\n",
       "[24489 rows x 1 columns]"
      ]
     },
     "execution_count": 74,
     "metadata": {},
     "output_type": "execute_result"
    }
   ],
   "source": [
    "result = pd.merge(pcap_df, zeek_df, how='left', left_on=['ts'], right_on='ts')\n",
    "result = result[['detailed-label']]\n",
    "result"
   ]
  },
  {
   "cell_type": "code",
   "execution_count": 75,
   "metadata": {},
   "outputs": [
    {
     "data": {
      "text/plain": [
       "Benign              4433\n",
       "C&C-FileDownload       4\n",
       "FileDownload           2\n",
       "Name: detailed-label, dtype: int64"
      ]
     },
     "execution_count": 75,
     "metadata": {},
     "output_type": "execute_result"
    }
   ],
   "source": [
    "result['detailed-label'].value_counts()"
   ]
  },
  {
   "cell_type": "code",
   "execution_count": 76,
   "metadata": {},
   "outputs": [
    {
     "name": "stdout",
     "output_type": "stream",
     "text": [
      "[+] File Saved:/Volumes/Unicorn/IoTScenarios/CTU-IoT-Malware-Capture-42-1/pcap_label.csv\n"
     ]
    }
   ],
   "source": [
    "result.to_csv(folder + 'pcap_label.csv')\n",
    "print('[+] File Saved:'+ folder + 'pcap_label.csv')"
   ]
  },
  {
   "cell_type": "code",
   "execution_count": 79,
   "metadata": {},
   "outputs": [],
   "source": [
    "a = pd.read_excel(folder + 'bro/conn.log.labeled.xlsx')\n",
    "a.to_csv(folder + 'bro/conn.log.labeled.csv')"
   ]
  }
 ],
 "metadata": {
  "interpreter": {
   "hash": "31f2aee4e71d21fbe5cf8b01ff0e069b9275f58929596ceb00d14d90e3e16cd6"
  },
  "kernelspec": {
   "display_name": "Python 3.8.9 64-bit",
   "language": "python",
   "name": "python3"
  },
  "language_info": {
   "codemirror_mode": {
    "name": "ipython",
    "version": 3
   },
   "file_extension": ".py",
   "mimetype": "text/x-python",
   "name": "python",
   "nbconvert_exporter": "python",
   "pygments_lexer": "ipython3",
   "version": "3.8.9"
  },
  "orig_nbformat": 4
 },
 "nbformat": 4,
 "nbformat_minor": 2
}
