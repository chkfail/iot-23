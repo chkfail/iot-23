{
 "cells": [
  {
   "cell_type": "code",
   "execution_count": 3,
   "metadata": {
    "pycharm": {
     "name": "#%%\n"
    }
   },
   "outputs": [],
   "source": [
    "import pandas as pd\n",
    "import numpy as np\n",
    "from scapy.all import *\n",
    "\n",
    "# def ZeekLogs_to_csv(file_path):\n",
    "#     try:\n",
    "#         out_data = pd.read_csv(file_path + '.csv')\n",
    "#         return out_data\n",
    "#     except:\n",
    "#         data_file = open(file_path)\n",
    "#         line = data_file.readline()\n",
    "#         attribs = {}\n",
    "#         while line.strip().startswith('#'):\n",
    "#             # print(line)\n",
    "#             key, *val = line.split()\n",
    "#             attribs[key[1:]] = val\n",
    "#             line = data_file.readline()\n",
    "#         # print(attribs)\n",
    "#         df = {}\n",
    "#         while line.strip().startswith('#close') is False:\n",
    "#             for k, v in zip(attribs['fields'], line.split()):\n",
    "#                 # print(k, v)\n",
    "#                 if k not in df.keys():\n",
    "#                     df[k] = []\n",
    "#                 df[k].append(v)\n",
    "#             line = data_file.readline()\n",
    "\n",
    "#         data_file.close()\n",
    "#         out_data = pd.DataFrame(df)\n",
    "#         out_data.to_csv(file_path + '.csv', index=False)\n",
    "#         return out_data\n",
    "    \n",
    "# def preprocess_data(file):\n",
    "#     data = ZeekLogs_to_csv(file)\n",
    "#     data['detailed-label'] = data['detailed-label'].replace(to_replace= '-',value= 'Benign')\n",
    "#     data = data.replace(to_replace='-', value=pd.NA)\n",
    "#     data = data.fillna(value=0)\n",
    "#     data['ts'] = data['ts'].astype(np.float64)\n",
    "#     return data\n",
    "\n",
    "# def csv_to_df(csv_file):\n",
    "#     print(\"[*] Loading:{0}\".format(csv_file), end = \"\\r\")\n",
    "#     data = preprocess_data(csv_file)\n",
    "#     df = data[['ts','detailed-label']]\n",
    "#     print(\"[+] Load Completed:{0}\".format(csv_file))\n",
    "#     return df\n",
    "\n",
    "def zeek_detail_to_df(csv_file):\n",
    "    df = pd.read_csv(csv_file)\n",
    "    return df\n",
    "\n",
    "def pcap_label_to_df(csv_file):\n",
    "    df = pd.read_csv(csv_file)\n",
    "    return df"
   ]
  },
  {
   "cell_type": "code",
   "execution_count": 4,
   "metadata": {
    "pycharm": {
     "name": "#%%\n"
    }
   },
   "outputs": [
    {
     "data": {
      "text/html": [
       "<div>\n",
       "<style scoped>\n",
       "    .dataframe tbody tr th:only-of-type {\n",
       "        vertical-align: middle;\n",
       "    }\n",
       "\n",
       "    .dataframe tbody tr th {\n",
       "        vertical-align: top;\n",
       "    }\n",
       "\n",
       "    .dataframe thead th {\n",
       "        text-align: right;\n",
       "    }\n",
       "</style>\n",
       "<table border=\"1\" class=\"dataframe\">\n",
       "  <thead>\n",
       "    <tr style=\"text-align: right;\">\n",
       "      <th></th>\n",
       "      <th>Unnamed: 0</th>\n",
       "      <th>detailed-label</th>\n",
       "    </tr>\n",
       "  </thead>\n",
       "  <tbody>\n",
       "    <tr>\n",
       "      <th>0</th>\n",
       "      <td>0</td>\n",
       "      <td>Benign</td>\n",
       "    </tr>\n",
       "    <tr>\n",
       "      <th>1</th>\n",
       "      <td>1</td>\n",
       "      <td>NaN</td>\n",
       "    </tr>\n",
       "    <tr>\n",
       "      <th>2</th>\n",
       "      <td>2</td>\n",
       "      <td>Benign</td>\n",
       "    </tr>\n",
       "    <tr>\n",
       "      <th>3</th>\n",
       "      <td>3</td>\n",
       "      <td>NaN</td>\n",
       "    </tr>\n",
       "    <tr>\n",
       "      <th>4</th>\n",
       "      <td>4</td>\n",
       "      <td>NaN</td>\n",
       "    </tr>\n",
       "    <tr>\n",
       "      <th>...</th>\n",
       "      <td>...</td>\n",
       "      <td>...</td>\n",
       "    </tr>\n",
       "    <tr>\n",
       "      <th>23618</th>\n",
       "      <td>23618</td>\n",
       "      <td>NaN</td>\n",
       "    </tr>\n",
       "    <tr>\n",
       "      <th>23619</th>\n",
       "      <td>23619</td>\n",
       "      <td>NaN</td>\n",
       "    </tr>\n",
       "    <tr>\n",
       "      <th>23620</th>\n",
       "      <td>23620</td>\n",
       "      <td>NaN</td>\n",
       "    </tr>\n",
       "    <tr>\n",
       "      <th>23621</th>\n",
       "      <td>23621</td>\n",
       "      <td>NaN</td>\n",
       "    </tr>\n",
       "    <tr>\n",
       "      <th>23622</th>\n",
       "      <td>23622</td>\n",
       "      <td>C&amp;C</td>\n",
       "    </tr>\n",
       "  </tbody>\n",
       "</table>\n",
       "<p>23623 rows × 2 columns</p>\n",
       "</div>"
      ],
      "text/plain": [
       "       Unnamed: 0 detailed-label\n",
       "0               0         Benign\n",
       "1               1            NaN\n",
       "2               2         Benign\n",
       "3               3            NaN\n",
       "4               4            NaN\n",
       "...           ...            ...\n",
       "23618       23618            NaN\n",
       "23619       23619            NaN\n",
       "23620       23620            NaN\n",
       "23621       23621            NaN\n",
       "23622       23622            C&C\n",
       "\n",
       "[23623 rows x 2 columns]"
      ]
     },
     "execution_count": 4,
     "metadata": {},
     "output_type": "execute_result"
    }
   ],
   "source": [
    "\n",
    "location = '/Volumes/Unicorn/IoTScenarios/'\n",
    "folder_list = ['CTU-IoT-Malware-Capture-8-1/']\n",
    "\n",
    "for folder in folder_list:\n",
    "    folder = location + folder\n",
    "    zeek_df = zeek_detail_to_df(folder + 'bro/conn.log.labeled.csv')\n",
    "    pcap_label_df = pcap_label_to_df(folder + 'pcap_label.csv')\n",
    "\n",
    "pcap_label_df"
   ]
  },
  {
   "cell_type": "code",
   "execution_count": 5,
   "metadata": {
    "pycharm": {
     "name": "#%%\n"
    }
   },
   "outputs": [
    {
     "data": {
      "text/html": [
       "<div>\n",
       "<style scoped>\n",
       "    .dataframe tbody tr th:only-of-type {\n",
       "        vertical-align: middle;\n",
       "    }\n",
       "\n",
       "    .dataframe tbody tr th {\n",
       "        vertical-align: top;\n",
       "    }\n",
       "\n",
       "    .dataframe thead th {\n",
       "        text-align: right;\n",
       "    }\n",
       "</style>\n",
       "<table border=\"1\" class=\"dataframe\">\n",
       "  <thead>\n",
       "    <tr style=\"text-align: right;\">\n",
       "      <th></th>\n",
       "      <th>pcap_row_id</th>\n",
       "      <th>detailed_label</th>\n",
       "    </tr>\n",
       "  </thead>\n",
       "  <tbody>\n",
       "    <tr>\n",
       "      <th>0</th>\n",
       "      <td>0</td>\n",
       "      <td>Benign</td>\n",
       "    </tr>\n",
       "    <tr>\n",
       "      <th>1</th>\n",
       "      <td>2</td>\n",
       "      <td>Benign</td>\n",
       "    </tr>\n",
       "    <tr>\n",
       "      <th>2</th>\n",
       "      <td>7</td>\n",
       "      <td>Benign</td>\n",
       "    </tr>\n",
       "    <tr>\n",
       "      <th>3</th>\n",
       "      <td>9</td>\n",
       "      <td>Benign</td>\n",
       "    </tr>\n",
       "    <tr>\n",
       "      <th>4</th>\n",
       "      <td>11</td>\n",
       "      <td>Benign</td>\n",
       "    </tr>\n",
       "    <tr>\n",
       "      <th>...</th>\n",
       "      <td>...</td>\n",
       "      <td>...</td>\n",
       "    </tr>\n",
       "    <tr>\n",
       "      <th>10398</th>\n",
       "      <td>23614</td>\n",
       "      <td>C&amp;C</td>\n",
       "    </tr>\n",
       "    <tr>\n",
       "      <th>10399</th>\n",
       "      <td>23615</td>\n",
       "      <td>C&amp;C</td>\n",
       "    </tr>\n",
       "    <tr>\n",
       "      <th>10400</th>\n",
       "      <td>23616</td>\n",
       "      <td>C&amp;C</td>\n",
       "    </tr>\n",
       "    <tr>\n",
       "      <th>10401</th>\n",
       "      <td>23617</td>\n",
       "      <td>C&amp;C</td>\n",
       "    </tr>\n",
       "    <tr>\n",
       "      <th>10402</th>\n",
       "      <td>23622</td>\n",
       "      <td>C&amp;C</td>\n",
       "    </tr>\n",
       "  </tbody>\n",
       "</table>\n",
       "<p>10403 rows × 2 columns</p>\n",
       "</div>"
      ],
      "text/plain": [
       "       pcap_row_id detailed_label\n",
       "0                0         Benign\n",
       "1                2         Benign\n",
       "2                7         Benign\n",
       "3                9         Benign\n",
       "4               11         Benign\n",
       "...            ...            ...\n",
       "10398        23614            C&C\n",
       "10399        23615            C&C\n",
       "10400        23616            C&C\n",
       "10401        23617            C&C\n",
       "10402        23622            C&C\n",
       "\n",
       "[10403 rows x 2 columns]"
      ]
     },
     "execution_count": 5,
     "metadata": {},
     "output_type": "execute_result"
    }
   ],
   "source": [
    "pcap_label_df.columns=['pcap_row_id','detailed_label']\n",
    "pcap_label_df = pcap_label_df[pcap_label_df['detailed_label'].notnull()]\n",
    "pcap_label_df = pcap_label_df.reset_index(drop=True)\n",
    "# pcap_label_df['pcap_row_id'] = pcap_label_df['pcap_row_id'] + 1\n",
    "pcap_label_df"
   ]
  },
  {
   "cell_type": "code",
   "execution_count": 110,
   "metadata": {
    "pycharm": {
     "name": "#%%\n"
    }
   },
   "outputs": [
    {
     "name": "stdout",
     "output_type": "stream",
     "text": [
      "1\n",
      "3\n",
      "8\n",
      "10\n",
      "12\n",
      "18\n",
      "20\n",
      "22\n",
      "28\n",
      "30\n",
      "36\n",
      "aaa\n"
     ]
    }
   ],
   "source": [
    "for index,row in pcap_label_df.iterrows():\n",
    "    print(row['pcap_row_id'])\n",
    "    if index == 10:\n",
    "        print('aaa')\n",
    "        break\n",
    "    \n",
    "\n",
    "# zeek_df['label'] = pcap_label_df['pcap_row_id']\n",
    "# zeek_df['detailed-label'] = pcap_label_df['detailed_label']\n",
    "\n"
   ]
  },
  {
   "cell_type": "code",
   "execution_count": 11,
   "metadata": {
    "pycharm": {
     "name": "#%%\n"
    }
   },
   "outputs": [
    {
     "ename": "KeyError",
     "evalue": "\"['1'] not in index\"",
     "output_type": "error",
     "traceback": [
      "\u001B[0;31m---------------------------------------------------------------------------\u001B[0m",
      "\u001B[0;31mKeyError\u001B[0m                                  Traceback (most recent call last)",
      "\u001B[1;32m/Users/cyberfishtail/Repositories/lot-23-dataprocess/pcap_detail.ipynb Cell 5'\u001B[0m in \u001B[0;36m<cell line: 2>\u001B[0;34m()\u001B[0m\n\u001B[1;32m      <a href='vscode-notebook-cell:/Users/cyberfishtail/Repositories/lot-23-dataprocess/pcap_detail.ipynb#ch0000004?line=0'>1</a>\u001B[0m \u001B[39m# pcap_label_df['pcap_row_id'][1]\u001B[39;00m\n\u001B[0;32m----> <a href='vscode-notebook-cell:/Users/cyberfishtail/Repositories/lot-23-dataprocess/pcap_detail.ipynb#ch0000004?line=1'>2</a>\u001B[0m pcap_label_df\u001B[39m.\u001B[39;49mloc[:, (\u001B[39m'\u001B[39;49m\u001B[39mpcap_row_id\u001B[39;49m\u001B[39m'\u001B[39;49m,\u001B[39m'\u001B[39;49m\u001B[39m1\u001B[39;49m\u001B[39m'\u001B[39;49m)]\n",
      "File \u001B[0;32m~/Library/Python/3.8/lib/python/site-packages/pandas/core/indexing.py:961\u001B[0m, in \u001B[0;36m_LocationIndexer.__getitem__\u001B[0;34m(self, key)\u001B[0m\n\u001B[1;32m    <a href='file:///Users/cyberfishtail/Library/Python/3.8/lib/python/site-packages/pandas/core/indexing.py?line=958'>959</a>\u001B[0m     \u001B[39mif\u001B[39;00m \u001B[39mself\u001B[39m\u001B[39m.\u001B[39m_is_scalar_access(key):\n\u001B[1;32m    <a href='file:///Users/cyberfishtail/Library/Python/3.8/lib/python/site-packages/pandas/core/indexing.py?line=959'>960</a>\u001B[0m         \u001B[39mreturn\u001B[39;00m \u001B[39mself\u001B[39m\u001B[39m.\u001B[39mobj\u001B[39m.\u001B[39m_get_value(\u001B[39m*\u001B[39mkey, takeable\u001B[39m=\u001B[39m\u001B[39mself\u001B[39m\u001B[39m.\u001B[39m_takeable)\n\u001B[0;32m--> <a href='file:///Users/cyberfishtail/Library/Python/3.8/lib/python/site-packages/pandas/core/indexing.py?line=960'>961</a>\u001B[0m     \u001B[39mreturn\u001B[39;00m \u001B[39mself\u001B[39;49m\u001B[39m.\u001B[39;49m_getitem_tuple(key)\n\u001B[1;32m    <a href='file:///Users/cyberfishtail/Library/Python/3.8/lib/python/site-packages/pandas/core/indexing.py?line=961'>962</a>\u001B[0m \u001B[39melse\u001B[39;00m:\n\u001B[1;32m    <a href='file:///Users/cyberfishtail/Library/Python/3.8/lib/python/site-packages/pandas/core/indexing.py?line=962'>963</a>\u001B[0m     \u001B[39m# we by definition only have the 0th axis\u001B[39;00m\n\u001B[1;32m    <a href='file:///Users/cyberfishtail/Library/Python/3.8/lib/python/site-packages/pandas/core/indexing.py?line=963'>964</a>\u001B[0m     axis \u001B[39m=\u001B[39m \u001B[39mself\u001B[39m\u001B[39m.\u001B[39maxis \u001B[39mor\u001B[39;00m \u001B[39m0\u001B[39m\n",
      "File \u001B[0;32m~/Library/Python/3.8/lib/python/site-packages/pandas/core/indexing.py:1149\u001B[0m, in \u001B[0;36m_LocIndexer._getitem_tuple\u001B[0;34m(self, tup)\u001B[0m\n\u001B[1;32m   <a href='file:///Users/cyberfishtail/Library/Python/3.8/lib/python/site-packages/pandas/core/indexing.py?line=1145'>1146</a>\u001B[0m \u001B[39mif\u001B[39;00m \u001B[39mself\u001B[39m\u001B[39m.\u001B[39m_multi_take_opportunity(tup):\n\u001B[1;32m   <a href='file:///Users/cyberfishtail/Library/Python/3.8/lib/python/site-packages/pandas/core/indexing.py?line=1146'>1147</a>\u001B[0m     \u001B[39mreturn\u001B[39;00m \u001B[39mself\u001B[39m\u001B[39m.\u001B[39m_multi_take(tup)\n\u001B[0;32m-> <a href='file:///Users/cyberfishtail/Library/Python/3.8/lib/python/site-packages/pandas/core/indexing.py?line=1148'>1149</a>\u001B[0m \u001B[39mreturn\u001B[39;00m \u001B[39mself\u001B[39;49m\u001B[39m.\u001B[39;49m_getitem_tuple_same_dim(tup)\n",
      "File \u001B[0;32m~/Library/Python/3.8/lib/python/site-packages/pandas/core/indexing.py:827\u001B[0m, in \u001B[0;36m_LocationIndexer._getitem_tuple_same_dim\u001B[0;34m(self, tup)\u001B[0m\n\u001B[1;32m    <a href='file:///Users/cyberfishtail/Library/Python/3.8/lib/python/site-packages/pandas/core/indexing.py?line=823'>824</a>\u001B[0m \u001B[39mif\u001B[39;00m com\u001B[39m.\u001B[39mis_null_slice(key):\n\u001B[1;32m    <a href='file:///Users/cyberfishtail/Library/Python/3.8/lib/python/site-packages/pandas/core/indexing.py?line=824'>825</a>\u001B[0m     \u001B[39mcontinue\u001B[39;00m\n\u001B[0;32m--> <a href='file:///Users/cyberfishtail/Library/Python/3.8/lib/python/site-packages/pandas/core/indexing.py?line=826'>827</a>\u001B[0m retval \u001B[39m=\u001B[39m \u001B[39mgetattr\u001B[39;49m(retval, \u001B[39mself\u001B[39;49m\u001B[39m.\u001B[39;49mname)\u001B[39m.\u001B[39;49m_getitem_axis(key, axis\u001B[39m=\u001B[39;49mi)\n\u001B[1;32m    <a href='file:///Users/cyberfishtail/Library/Python/3.8/lib/python/site-packages/pandas/core/indexing.py?line=827'>828</a>\u001B[0m \u001B[39m# We should never have retval.ndim < self.ndim, as that should\u001B[39;00m\n\u001B[1;32m    <a href='file:///Users/cyberfishtail/Library/Python/3.8/lib/python/site-packages/pandas/core/indexing.py?line=828'>829</a>\u001B[0m \u001B[39m#  be handled by the _getitem_lowerdim call above.\u001B[39;00m\n\u001B[1;32m    <a href='file:///Users/cyberfishtail/Library/Python/3.8/lib/python/site-packages/pandas/core/indexing.py?line=829'>830</a>\u001B[0m \u001B[39massert\u001B[39;00m retval\u001B[39m.\u001B[39mndim \u001B[39m==\u001B[39m \u001B[39mself\u001B[39m\u001B[39m.\u001B[39mndim\n",
      "File \u001B[0;32m~/Library/Python/3.8/lib/python/site-packages/pandas/core/indexing.py:1191\u001B[0m, in \u001B[0;36m_LocIndexer._getitem_axis\u001B[0;34m(self, key, axis)\u001B[0m\n\u001B[1;32m   <a href='file:///Users/cyberfishtail/Library/Python/3.8/lib/python/site-packages/pandas/core/indexing.py?line=1187'>1188</a>\u001B[0m     \u001B[39mif\u001B[39;00m \u001B[39mhasattr\u001B[39m(key, \u001B[39m\"\u001B[39m\u001B[39mndim\u001B[39m\u001B[39m\"\u001B[39m) \u001B[39mand\u001B[39;00m key\u001B[39m.\u001B[39mndim \u001B[39m>\u001B[39m \u001B[39m1\u001B[39m:\n\u001B[1;32m   <a href='file:///Users/cyberfishtail/Library/Python/3.8/lib/python/site-packages/pandas/core/indexing.py?line=1188'>1189</a>\u001B[0m         \u001B[39mraise\u001B[39;00m \u001B[39mValueError\u001B[39;00m(\u001B[39m\"\u001B[39m\u001B[39mCannot index with multidimensional key\u001B[39m\u001B[39m\"\u001B[39m)\n\u001B[0;32m-> <a href='file:///Users/cyberfishtail/Library/Python/3.8/lib/python/site-packages/pandas/core/indexing.py?line=1190'>1191</a>\u001B[0m     \u001B[39mreturn\u001B[39;00m \u001B[39mself\u001B[39;49m\u001B[39m.\u001B[39;49m_getitem_iterable(key, axis\u001B[39m=\u001B[39;49maxis)\n\u001B[1;32m   <a href='file:///Users/cyberfishtail/Library/Python/3.8/lib/python/site-packages/pandas/core/indexing.py?line=1192'>1193</a>\u001B[0m \u001B[39m# nested tuple slicing\u001B[39;00m\n\u001B[1;32m   <a href='file:///Users/cyberfishtail/Library/Python/3.8/lib/python/site-packages/pandas/core/indexing.py?line=1193'>1194</a>\u001B[0m \u001B[39mif\u001B[39;00m is_nested_tuple(key, labels):\n",
      "File \u001B[0;32m~/Library/Python/3.8/lib/python/site-packages/pandas/core/indexing.py:1132\u001B[0m, in \u001B[0;36m_LocIndexer._getitem_iterable\u001B[0;34m(self, key, axis)\u001B[0m\n\u001B[1;32m   <a href='file:///Users/cyberfishtail/Library/Python/3.8/lib/python/site-packages/pandas/core/indexing.py?line=1128'>1129</a>\u001B[0m \u001B[39mself\u001B[39m\u001B[39m.\u001B[39m_validate_key(key, axis)\n\u001B[1;32m   <a href='file:///Users/cyberfishtail/Library/Python/3.8/lib/python/site-packages/pandas/core/indexing.py?line=1130'>1131</a>\u001B[0m \u001B[39m# A collection of keys\u001B[39;00m\n\u001B[0;32m-> <a href='file:///Users/cyberfishtail/Library/Python/3.8/lib/python/site-packages/pandas/core/indexing.py?line=1131'>1132</a>\u001B[0m keyarr, indexer \u001B[39m=\u001B[39m \u001B[39mself\u001B[39;49m\u001B[39m.\u001B[39;49m_get_listlike_indexer(key, axis)\n\u001B[1;32m   <a href='file:///Users/cyberfishtail/Library/Python/3.8/lib/python/site-packages/pandas/core/indexing.py?line=1132'>1133</a>\u001B[0m \u001B[39mreturn\u001B[39;00m \u001B[39mself\u001B[39m\u001B[39m.\u001B[39mobj\u001B[39m.\u001B[39m_reindex_with_indexers(\n\u001B[1;32m   <a href='file:///Users/cyberfishtail/Library/Python/3.8/lib/python/site-packages/pandas/core/indexing.py?line=1133'>1134</a>\u001B[0m     {axis: [keyarr, indexer]}, copy\u001B[39m=\u001B[39m\u001B[39mTrue\u001B[39;00m, allow_dups\u001B[39m=\u001B[39m\u001B[39mTrue\u001B[39;00m\n\u001B[1;32m   <a href='file:///Users/cyberfishtail/Library/Python/3.8/lib/python/site-packages/pandas/core/indexing.py?line=1134'>1135</a>\u001B[0m )\n",
      "File \u001B[0;32m~/Library/Python/3.8/lib/python/site-packages/pandas/core/indexing.py:1327\u001B[0m, in \u001B[0;36m_LocIndexer._get_listlike_indexer\u001B[0;34m(self, key, axis)\u001B[0m\n\u001B[1;32m   <a href='file:///Users/cyberfishtail/Library/Python/3.8/lib/python/site-packages/pandas/core/indexing.py?line=1323'>1324</a>\u001B[0m ax \u001B[39m=\u001B[39m \u001B[39mself\u001B[39m\u001B[39m.\u001B[39mobj\u001B[39m.\u001B[39m_get_axis(axis)\n\u001B[1;32m   <a href='file:///Users/cyberfishtail/Library/Python/3.8/lib/python/site-packages/pandas/core/indexing.py?line=1324'>1325</a>\u001B[0m axis_name \u001B[39m=\u001B[39m \u001B[39mself\u001B[39m\u001B[39m.\u001B[39mobj\u001B[39m.\u001B[39m_get_axis_name(axis)\n\u001B[0;32m-> <a href='file:///Users/cyberfishtail/Library/Python/3.8/lib/python/site-packages/pandas/core/indexing.py?line=1326'>1327</a>\u001B[0m keyarr, indexer \u001B[39m=\u001B[39m ax\u001B[39m.\u001B[39;49m_get_indexer_strict(key, axis_name)\n\u001B[1;32m   <a href='file:///Users/cyberfishtail/Library/Python/3.8/lib/python/site-packages/pandas/core/indexing.py?line=1328'>1329</a>\u001B[0m \u001B[39mreturn\u001B[39;00m keyarr, indexer\n",
      "File \u001B[0;32m~/Library/Python/3.8/lib/python/site-packages/pandas/core/indexes/base.py:5782\u001B[0m, in \u001B[0;36mIndex._get_indexer_strict\u001B[0;34m(self, key, axis_name)\u001B[0m\n\u001B[1;32m   <a href='file:///Users/cyberfishtail/Library/Python/3.8/lib/python/site-packages/pandas/core/indexes/base.py?line=5778'>5779</a>\u001B[0m \u001B[39melse\u001B[39;00m:\n\u001B[1;32m   <a href='file:///Users/cyberfishtail/Library/Python/3.8/lib/python/site-packages/pandas/core/indexes/base.py?line=5779'>5780</a>\u001B[0m     keyarr, indexer, new_indexer \u001B[39m=\u001B[39m \u001B[39mself\u001B[39m\u001B[39m.\u001B[39m_reindex_non_unique(keyarr)\n\u001B[0;32m-> <a href='file:///Users/cyberfishtail/Library/Python/3.8/lib/python/site-packages/pandas/core/indexes/base.py?line=5781'>5782</a>\u001B[0m \u001B[39mself\u001B[39;49m\u001B[39m.\u001B[39;49m_raise_if_missing(keyarr, indexer, axis_name)\n\u001B[1;32m   <a href='file:///Users/cyberfishtail/Library/Python/3.8/lib/python/site-packages/pandas/core/indexes/base.py?line=5783'>5784</a>\u001B[0m keyarr \u001B[39m=\u001B[39m \u001B[39mself\u001B[39m\u001B[39m.\u001B[39mtake(indexer)\n\u001B[1;32m   <a href='file:///Users/cyberfishtail/Library/Python/3.8/lib/python/site-packages/pandas/core/indexes/base.py?line=5784'>5785</a>\u001B[0m \u001B[39mif\u001B[39;00m \u001B[39misinstance\u001B[39m(key, Index):\n\u001B[1;32m   <a href='file:///Users/cyberfishtail/Library/Python/3.8/lib/python/site-packages/pandas/core/indexes/base.py?line=5785'>5786</a>\u001B[0m     \u001B[39m# GH 42790 - Preserve name from an Index\u001B[39;00m\n",
      "File \u001B[0;32m~/Library/Python/3.8/lib/python/site-packages/pandas/core/indexes/base.py:5845\u001B[0m, in \u001B[0;36mIndex._raise_if_missing\u001B[0;34m(self, key, indexer, axis_name)\u001B[0m\n\u001B[1;32m   <a href='file:///Users/cyberfishtail/Library/Python/3.8/lib/python/site-packages/pandas/core/indexes/base.py?line=5841'>5842</a>\u001B[0m     \u001B[39mraise\u001B[39;00m \u001B[39mKeyError\u001B[39;00m(\u001B[39mf\u001B[39m\u001B[39m\"\u001B[39m\u001B[39mNone of [\u001B[39m\u001B[39m{\u001B[39;00mkey\u001B[39m}\u001B[39;00m\u001B[39m] are in the [\u001B[39m\u001B[39m{\u001B[39;00maxis_name\u001B[39m}\u001B[39;00m\u001B[39m]\u001B[39m\u001B[39m\"\u001B[39m)\n\u001B[1;32m   <a href='file:///Users/cyberfishtail/Library/Python/3.8/lib/python/site-packages/pandas/core/indexes/base.py?line=5843'>5844</a>\u001B[0m not_found \u001B[39m=\u001B[39m \u001B[39mlist\u001B[39m(ensure_index(key)[missing_mask\u001B[39m.\u001B[39mnonzero()[\u001B[39m0\u001B[39m]]\u001B[39m.\u001B[39munique())\n\u001B[0;32m-> <a href='file:///Users/cyberfishtail/Library/Python/3.8/lib/python/site-packages/pandas/core/indexes/base.py?line=5844'>5845</a>\u001B[0m \u001B[39mraise\u001B[39;00m \u001B[39mKeyError\u001B[39;00m(\u001B[39mf\u001B[39m\u001B[39m\"\u001B[39m\u001B[39m{\u001B[39;00mnot_found\u001B[39m}\u001B[39;00m\u001B[39m not in index\u001B[39m\u001B[39m\"\u001B[39m)\n",
      "\u001B[0;31mKeyError\u001B[0m: \"['1'] not in index\""
     ]
    }
   ],
   "source": [
    "# pcap_label_df['pcap_row_id'][1]\n",
    "pcap_label_df.loc[:, ('pcap_row_id',1)]"
   ]
  },
  {
   "cell_type": "code",
   "execution_count": null,
   "metadata": {
    "pycharm": {
     "name": "#%%\n"
    }
   },
   "outputs": [],
   "source": []
  },
  {
   "cell_type": "code",
   "execution_count": null,
   "metadata": {
    "pycharm": {
     "name": "#%%\n"
    }
   },
   "outputs": [],
   "source": [
    "def find_pcap(folder):\n",
    "    for file in os.listdir(folder):\n",
    "        if os.path.splitext(file)[1] == '.pcap':\n",
    "            if str.find(file, '2018') != -1:\n",
    "                return os.path.join(folder, file)\n",
    "            \n",
    "def pcap_to_df(pcap_file, byline = True):\n",
    "    print(\"[*] Loading:{0}\".format(pcap_file), end = \"\\r\")    \n",
    "    if byline == True:\n",
    "        packets = PcapReader(pcap_file)\n",
    "        length = \"Unknown\"\n",
    "    else:\n",
    "        packets = rdpcap(pcap_file)\n",
    "        length = len(packets)\n",
    "    print(\"[+] Load Completed:{0}\".format(pcap_file))\n",
    "    df = pd.DataFrame({\"ts\": []})\n",
    "    i = 0\n",
    "    for data in packets:\n",
    "        print(\"[*] Prasing Progress:{0}/{1}\".format(i,length), end = \"\\r\")\n",
    "        df.loc[i] = data.time\n",
    "        i += 1\n",
    "\n",
    "pcap_df = pcap_to_df(find_pcap(folder), byline=True)"
   ]
  },
  {
   "cell_type": "code",
   "execution_count": 117,
   "metadata": {
    "pycharm": {
     "name": "#%%\n"
    }
   },
   "outputs": [
    {
     "data": {
      "text/plain": [
       "[]"
      ]
     },
     "execution_count": 117,
     "metadata": {},
     "output_type": "execute_result"
    }
   ],
   "source": [
    "ip_version,aa = [],[]\n",
    "aa"
   ]
  }
 ],
 "metadata": {
  "interpreter": {
   "hash": "31f2aee4e71d21fbe5cf8b01ff0e069b9275f58929596ceb00d14d90e3e16cd6"
  },
  "kernelspec": {
   "display_name": "Python 3.8.9 64-bit",
   "language": "python",
   "name": "python3"
  },
  "language_info": {
   "codemirror_mode": {
    "name": "ipython",
    "version": 3
   },
   "file_extension": ".py",
   "mimetype": "text/x-python",
   "name": "python",
   "nbconvert_exporter": "python",
   "pygments_lexer": "ipython3",
   "version": "3.8.9"
  },
  "orig_nbformat": 4
 },
 "nbformat": 4,
 "nbformat_minor": 2
}